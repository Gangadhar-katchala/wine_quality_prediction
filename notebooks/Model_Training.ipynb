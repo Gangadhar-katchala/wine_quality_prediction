{
 "cells": [
  {
   "cell_type": "code",
   "execution_count": null,
   "id": "177ec9cb",
   "metadata": {},
   "outputs": [],
   "source": [
    "import sys\n",
    "import os\n",
    "sys.path.append(os.path.abspath(os.path.join(os.getcwd(), '..', 'src')))\n",
    "sys.path.append(os.path.abspath(os.path.join(os.getcwd(), '..')))"
   ]
  },
  {
   "cell_type": "code",
   "execution_count": null,
   "id": "ceca41d1",
   "metadata": {},
   "outputs": [
    {
     "name": "stdout",
     "output_type": "stream",
     "text": [
      "Loading full model pipeline...\n",
      "Model pipeline loaded in 0.75 seconds.\n",
      "Constructed DataFrame:\n",
      "    fixed_acidity  volatile_acidity  citric_acid  residual_sugar  chlorides  \\\n",
      "0            7.4               0.7          0.0             1.9      0.076   \n",
      "\n",
      "   free_sulfur_dioxide  total_sulfur_dioxide  density    pH  sulphates  \\\n",
      "0                 11.0                  34.0   0.9978  3.51       0.56   \n",
      "\n",
      "   alcohol color  \n",
      "0      9.4   red  \n",
      "\n",
      "Input DataFrame:\n",
      "   fixed_acidity  volatile_acidity  citric_acid  residual_sugar  chlorides  \\\n",
      "0            7.4               0.7          0.0             1.9      0.076   \n",
      "\n",
      "   free_sulfur_dioxide  total_sulfur_dioxide  density    pH  sulphates  \\\n",
      "0                 11.0                  34.0   0.9978  3.51       0.56   \n",
      "\n",
      "   alcohol color  \n",
      "0      9.4   red  \n",
      "Starting prediction process...\n",
      "Input columns: ['fixed_acidity', 'volatile_acidity', 'citric_acid', 'residual_sugar', 'chlorides', 'free_sulfur_dioxide', 'total_sulfur_dioxide', 'density', 'pH', 'sulphates', 'alcohol', 'color']\n",
      "Input preview:\n",
      "    fixed_acidity  volatile_acidity  citric_acid  residual_sugar  chlorides  \\\n",
      "0            7.4               0.7          0.0             1.9      0.076   \n",
      "\n",
      "   free_sulfur_dioxide  total_sulfur_dioxide  density    pH  sulphates  \\\n",
      "0                 11.0                  34.0   0.9978  3.51       0.56   \n",
      "\n",
      "   alcohol color  \n",
      "0      9.4   red  \n",
      "Prediction completed in 0.006 seconds\n",
      "\n",
      "Predicted wine quality: medium\n"
     ]
    }
   ],
   "source": [
    "from src.pipeline.predict_pipeline import PredictPipeline, CustomData\n",
    "\n",
    "test_input = CustomData(\n",
    "    fixed_acidity=7.4,\n",
    "    volatile_acidity=0.70,\n",
    "    citric_acid=0.00,\n",
    "    residual_sugar=1.9,\n",
    "    chlorides=0.076,\n",
    "    free_sulfur_dioxide=11.0,\n",
    "    total_sulfur_dioxide=34.0,\n",
    "    density=0.9978,\n",
    "    pH=3.51,\n",
    "    sulphates=0.56,\n",
    "    alcohol=9.4,\n",
    "    color=\"red\"\n",
    ")\n",
    "\n",
    "# Convert to DataFrame\n",
    "df = test_input.get_data_as_dataframe()\n",
    "print(\"\\nInput DataFrame:\")\n",
    "print(df)\n",
    "\n",
    "# Run prediction\n",
    "predictor = PredictPipeline()\n",
    "result = predictor.predict(df)\n",
    "print(\"\\nPredicted wine quality:\", result[0])\n"
   ]
  },
  {
   "cell_type": "code",
   "execution_count": null,
   "id": "7e1c8ce5",
   "metadata": {},
   "outputs": [
    {
     "name": "stdout",
     "output_type": "stream",
     "text": [
      "HTTP error occurred: 500 Server Error: INTERNAL SERVER ERROR for url: http://127.0.0.1:5000/predictdata\n",
      "Response content: <!doctype html>\n",
      "<html lang=en>\n",
      "<title>500 Internal Server Error</title>\n",
      "<h1>Internal Server Error</h1>\n",
      "<p>The server encountered an internal error and was unable to complete your request. Either the server is overloaded or there is an error in the application.</p>\n",
      "\n"
     ]
    }
   ],
   "source": [
    "http://127.0.0.1:5000/predictdata"
   ]
  }
 ],
 "metadata": {
  "kernelspec": {
   "display_name": "base",
   "language": "python",
   "name": "python3"
  },
  "language_info": {
   "codemirror_mode": {
    "name": "ipython",
    "version": 3
   },
   "file_extension": ".py",
   "mimetype": "text/x-python",
   "name": "python",
   "nbconvert_exporter": "python",
   "pygments_lexer": "ipython3",
   "version": "3.12.7"
  }
 },
 "nbformat": 4,
 "nbformat_minor": 5
}
